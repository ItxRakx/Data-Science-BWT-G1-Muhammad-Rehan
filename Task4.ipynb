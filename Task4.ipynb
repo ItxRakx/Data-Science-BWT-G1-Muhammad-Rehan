{
 "cells": [
  {
   "cell_type": "raw",
   "id": "7dbcf8af-7185-4dfe-bd25-b0a4eb77119b",
   "metadata": {},
   "source": [
    "Variables"
   ]
  },
  {
   "cell_type": "code",
   "execution_count": 2,
   "id": "4fbc7164-38ed-4317-89ed-ab3f114e4bf8",
   "metadata": {},
   "outputs": [
    {
     "name": "stdout",
     "output_type": "stream",
     "text": [
      "Rehan\n",
      "Ahmad\n"
     ]
    }
   ],
   "source": [
    "name=\"Rehan\"\n",
    "print(name)\n",
    "name=\"Ahmad\"\n",
    "print(name)"
   ]
  },
  {
   "cell_type": "raw",
   "id": "208e9ccb-e49d-40ab-a75d-a997c9827151",
   "metadata": {},
   "source": [
    "Strings"
   ]
  },
  {
   "cell_type": "code",
   "execution_count": 4,
   "id": "bf5b5f71-7752-413f-8862-7028c7abadb4",
   "metadata": {},
   "outputs": [
    {
     "name": "stdout",
     "output_type": "stream",
     "text": [
      "'The only way to do great work is to love what you do.– Steve Jobs'\n"
     ]
    }
   ],
   "source": [
    "quote=\"'The only way to do great work is to love what you do.– Steve Jobs'\"\n",
    "print (quote)"
   ]
  },
  {
   "cell_type": "code",
   "execution_count": 5,
   "id": "27bfa3ab-d3ab-4bfe-931f-78999a518766",
   "metadata": {},
   "outputs": [
    {
     "name": "stdout",
     "output_type": "stream",
     "text": [
      "Rehan\n",
      "REHAN\n",
      "rehan\n"
     ]
    }
   ],
   "source": [
    "name=\"Rehan\"\n",
    "print(name.title())\n",
    "print(name.upper())\n",
    "print(name.lower())"
   ]
  },
  {
   "cell_type": "raw",
   "id": "b0da2537-5ee8-4ad2-a357-b5842319c44d",
   "metadata": {},
   "source": [
    "Concatination"
   ]
  },
  {
   "cell_type": "code",
   "execution_count": 8,
   "id": "31c27f34-6298-4ac9-b32e-d76e9ab9136b",
   "metadata": {},
   "outputs": [
    {
     "name": "stdout",
     "output_type": "stream",
     "text": [
      " Muhammad  Rehan \n"
     ]
    }
   ],
   "source": [
    "first_name=\" muhammad \"\n",
    "last_name=\" rehan \"\n",
    "name=first_name + last_name\n",
    "print(name.title())"
   ]
  },
  {
   "cell_type": "code",
   "execution_count": 10,
   "id": "f0ec4f4e-5b55-4072-ad27-a27ddb44873b",
   "metadata": {},
   "outputs": [
    {
     "name": "stdout",
     "output_type": "stream",
     "text": [
      "Languages:\n",
      "Python\n",
      "C\n",
      "JavaScript\n",
      "C++\n"
     ]
    }
   ],
   "source": [
    "print(\"Languages:\\nPython\\nC\\nJavaScript\\nC++\")"
   ]
  },
  {
   "cell_type": "raw",
   "id": "ea1d695a-4618-4283-890c-9a430df8c194",
   "metadata": {},
   "source": [
    "strip(),rstrip(),lstrip()"
   ]
  },
  {
   "cell_type": "code",
   "execution_count": 11,
   "id": "1494a17c-9cdb-406c-a65d-aa12d09c99f2",
   "metadata": {},
   "outputs": [
    {
     "name": "stdout",
     "output_type": "stream",
     "text": [
      "Rehan\n"
     ]
    }
   ],
   "source": [
    "name=\" Rehan \"\n",
    "print(name.strip().title())"
   ]
  },
  {
   "cell_type": "code",
   "execution_count": 12,
   "id": "5a918dda-d9f4-431c-b1af-468c4022bd82",
   "metadata": {},
   "outputs": [
    {
     "data": {
      "text/plain": [
       "'python'"
      ]
     },
     "execution_count": 12,
     "metadata": {},
     "output_type": "execute_result"
    }
   ],
   "source": [
    "lang=\"python\"\n",
    "lang.rstrip()"
   ]
  },
  {
   "cell_type": "code",
   "execution_count": 13,
   "id": "32f0987c-bf3a-4869-a259-ccd43be384ea",
   "metadata": {},
   "outputs": [
    {
     "name": "stdout",
     "output_type": "stream",
     "text": [
      "The Zen of Python, by Tim Peters\n",
      "\n",
      "Beautiful is better than ugly.\n",
      "Explicit is better than implicit.\n",
      "Simple is better than complex.\n",
      "Complex is better than complicated.\n",
      "Flat is better than nested.\n",
      "Sparse is better than dense.\n",
      "Readability counts.\n",
      "Special cases aren't special enough to break the rules.\n",
      "Although practicality beats purity.\n",
      "Errors should never pass silently.\n",
      "Unless explicitly silenced.\n",
      "In the face of ambiguity, refuse the temptation to guess.\n",
      "There should be one-- and preferably only one --obvious way to do it.\n",
      "Although that way may not be obvious at first unless you're Dutch.\n",
      "Now is better than never.\n",
      "Although never is often better than *right* now.\n",
      "If the implementation is hard to explain, it's a bad idea.\n",
      "If the implementation is easy to explain, it may be a good idea.\n",
      "Namespaces are one honking great idea -- let's do more of those!\n"
     ]
    }
   ],
   "source": [
    "import this"
   ]
  },
  {
   "cell_type": "raw",
   "id": "8a48d833-f14e-4753-8260-23b7ced69537",
   "metadata": {},
   "source": [
    "Mathematics"
   ]
  },
  {
   "cell_type": "code",
   "execution_count": 15,
   "id": "4a682d5b-0bde-42e4-ae11-21f94d81f2d4",
   "metadata": {},
   "outputs": [
    {
     "name": "stdout",
     "output_type": "stream",
     "text": [
      "8\n",
      "8\n",
      "8\n",
      "8.0\n"
     ]
    }
   ],
   "source": [
    "print(5 + 3)\n",
    "\n",
    "# Subtraction\n",
    "print(10 - 2)\n",
    "\n",
    "# Multiplication\n",
    "print(4 * 2)\n",
    "\n",
    "# Division\n",
    "print(16 / 2)"
   ]
  },
  {
   "cell_type": "code",
   "execution_count": 16,
   "id": "58bcfca2-adf7-4271-9def-cc6799ed157d",
   "metadata": {},
   "outputs": [
    {
     "name": "stdout",
     "output_type": "stream",
     "text": [
      "My favorite number is 14.\n"
     ]
    }
   ],
   "source": [
    "favorite_number = 14\n",
    "message =f\"My favorite number is {favorite_number}.\"\n",
    "print(message)"
   ]
  },
  {
   "cell_type": "raw",
   "id": "397ec4b3-18d9-4529-933c-665ac8592902",
   "metadata": {},
   "source": [
    "conditional statements and comparison operators"
   ]
  },
  {
   "cell_type": "code",
   "execution_count": 17,
   "id": "0a9847fb-2a4a-4a9d-8848-d9ae0c5a0c1b",
   "metadata": {},
   "outputs": [
    {
     "name": "stdout",
     "output_type": "stream",
     "text": [
      "a is less than b\n"
     ]
    }
   ],
   "source": [
    "a = 16\n",
    "b = 20\n",
    "\n",
    "if a > b:\n",
    "    print(\"a is greater than b\")\n",
    "elif a < b:\n",
    "    print(\"a is less than b\")\n",
    "else:\n",
    "    print(\"a is equal to b\")"
   ]
  },
  {
   "cell_type": "code",
   "execution_count": 18,
   "id": "762134ef-a441-4c5f-b393-0433b1d25ddf",
   "metadata": {},
   "outputs": [
    {
     "name": "stdout",
     "output_type": "stream",
     "text": [
      "Both conditions are True\n",
      "At least one condition is True\n",
      "x is not less than y\n"
     ]
    }
   ],
   "source": [
    "x = 10\n",
    "y = 5\n",
    "z = 15\n",
    "\n",
    "# and (to check both of them)\n",
    "if x > y and z > x:\n",
    "    print(\"Both conditions are True\")\n",
    "\n",
    "# or  (to check either of them)\n",
    "if x < y or z > x:\n",
    "    print(\"At least one condition is True\")\n",
    "\n",
    "# not\n",
    "if not (x < y):\n",
    "    print(\"x is not less than y\")"
   ]
  },
  {
   "cell_type": "code",
   "execution_count": 22,
   "id": "4f9a0984-eccd-4519-8fb0-d7912d0e47cb",
   "metadata": {},
   "outputs": [
    {
     "name": "stdout",
     "output_type": "stream",
     "text": [
      "The sum is 15\n",
      "The difference is 5\n"
     ]
    }
   ],
   "source": [
    "# Example numbers\n",
    "num1 = 10\n",
    "num2 = 5\n",
    "\n",
    "# Addition\n",
    "result_add = num1 + num2\n",
    "if result_add == 15:\n",
    "    print(\"The sum is 15\")\n",
    "\n",
    "# Subtraction\n",
    "result_sub = num1 - num2\n",
    "if result_sub == 5:\n",
    "    print(\"The difference is 5\")\n"
   ]
  },
  {
   "cell_type": "code",
   "execution_count": null,
   "id": "515ac290-7b9b-4994-b6cd-0922682df8dc",
   "metadata": {},
   "outputs": [],
   "source": []
  }
 ],
 "metadata": {
  "kernelspec": {
   "display_name": "Python 3 (ipykernel)",
   "language": "python",
   "name": "python3"
  },
  "language_info": {
   "codemirror_mode": {
    "name": "ipython",
    "version": 3
   },
   "file_extension": ".py",
   "mimetype": "text/x-python",
   "name": "python",
   "nbconvert_exporter": "python",
   "pygments_lexer": "ipython3",
   "version": "3.12.2"
  }
 },
 "nbformat": 4,
 "nbformat_minor": 5
}

{
 "cells": [
  {
   "cell_type": "raw",
   "id": "eb96f787-451f-495b-baf1-7d7a9503a6af",
   "metadata": {},
   "source": [
    "Numpay"
   ]
  },
  {
   "cell_type": "code",
   "execution_count": 1,
   "id": "97566086-cf8d-47c9-8922-d8d9e9d88498",
   "metadata": {},
   "outputs": [],
   "source": [
    "import numpy as np"
   ]
  },
  {
   "cell_type": "code",
   "execution_count": 2,
   "id": "094001d3-771b-431c-8820-2d245ee857cd",
   "metadata": {},
   "outputs": [
    {
     "name": "stdout",
     "output_type": "stream",
     "text": [
      "[0. 0. 0. 0. 0. 0. 0. 0. 0. 0.] [1. 1. 1. 1. 1. 1. 1. 1. 1. 1.]\n"
     ]
    }
   ],
   "source": [
    "zeros_array = np.zeros(10)\n",
    "ones_array = np.ones(10)\n",
    "print(zeros_array,ones_array)"
   ]
  },
  {
   "cell_type": "code",
   "execution_count": 3,
   "id": "e2b0532c-1848-4b0d-ad12-45c06a269da9",
   "metadata": {},
   "outputs": [
    {
     "name": "stdout",
     "output_type": "stream",
     "text": [
      "[ 0  1  2  3  4  5  6  7  8  9 10 11 12 13 14 15 16 17 18 19]\n"
     ]
    }
   ],
   "source": [
    "# arange func()-> to generate a range of numbers\n",
    "range_array = np.arange(20)\n",
    "print(range_array)"
   ]
  },
  {
   "cell_type": "code",
   "execution_count": 4,
   "id": "b8623cb1-aa9c-4862-b1ba-b9e7f169c442",
   "metadata": {},
   "outputs": [
    {
     "name": "stdout",
     "output_type": "stream",
     "text": [
      "Addition: \n",
      " [0.52380219 0.21682212 1.16885502 1.00072567 0.76045204 1.33490615\n",
      " 0.90678455 1.33492021 0.75666097 0.81607633]\n",
      "Subtraction: \n",
      " [ 0.15377772 -0.05447115 -0.15730604 -0.93398141 -0.66965745 -0.65823482\n",
      " -0.66841299  0.45154019  0.52238282 -0.71678471]\n",
      "Multiplication:\n",
      " [0.06268029 0.01101118 0.33536922 0.03228265 0.03246155 0.33717534\n",
      " 0.09387057 0.39453086 0.074913   0.03805006]\n"
     ]
    }
   ],
   "source": [
    "array1 = np.random.rand(10)\n",
    "array2 = np.random.rand(10)\n",
    "\n",
    "add = array1 + array2\n",
    "sub = array1 - array2\n",
    "mul = array1 * array2\n",
    "\n",
    "print(\"Addition: \\n\", add)\n",
    "print(\"Subtraction: \\n\", sub)\n",
    "print(\"Multiplication:\\n\", mul)"
   ]
  },
  {
   "cell_type": "code",
   "execution_count": 6,
   "id": "6db3eed0-d643-4687-bc64-8fc934100d85",
   "metadata": {},
   "outputs": [
    {
     "name": "stdout",
     "output_type": "stream",
     "text": [
      "Sum: 4.985278437720616\n",
      "Mean: 0.4985278437720616\n",
      "Standard Deviation: 0.2500686042471112\n",
      "ABS: 1\n"
     ]
    }
   ],
   "source": [
    "array = np.random.rand(10)\n",
    "\n",
    "sum_array = np.sum(array)\n",
    "mean_array = np.mean(array)\n",
    "std_array = np.std(array)\n",
    "abs=np.absolute(2-3)\n",
    "\n",
    "print(\"Sum:\", sum_array)\n",
    "print(\"Mean:\", mean_array)\n",
    "print(\"Standard Deviation:\", std_array)\n",
    "print(\"ABS:\", abs)"
   ]
  },
  {
   "cell_type": "code",
   "execution_count": 7,
   "id": "cced8acb-3bbd-4e9e-94c6-a29849092d69",
   "metadata": {},
   "outputs": [
    {
     "name": "stdout",
     "output_type": "stream",
     "text": [
      "Original matrix:\n",
      " [[0 1 2]\n",
      " [3 4 5]\n",
      " [6 7 8]]\n",
      "Reshaped array: [0 1 2 3 4 5 6 7 8]\n"
     ]
    }
   ],
   "source": [
    "matrix = np.arange(9).reshape(3, 3)\n",
    "reshaped_array = matrix.flatten()\n",
    "# to flatten to convert it to 1-d array\n",
    "print(\"Original matrix:\\n\", matrix)\n",
    "print(\"Reshaped array:\", reshaped_array)"
   ]
  },
  {
   "cell_type": "code",
   "execution_count": 8,
   "id": "03a48f88-5669-4c27-88bf-b7826ad3fec1",
   "metadata": {},
   "outputs": [
    {
     "name": "stdout",
     "output_type": "stream",
     "text": [
      "Vertical Concatenation: \n",
      " [[1 2]\n",
      " [3 4]\n",
      " [5 6]\n",
      " [7 8]]\n",
      "Horizontal Concatenation: \n",
      " [[1 2 5 6]\n",
      " [3 4 7 8]]\n"
     ]
    }
   ],
   "source": [
    "array1 = np.array([[1, 2], [3, 4]])\n",
    "array2 = np.array([[5, 6], [7, 8]])\n",
    "\n",
    "vertical_concat = np.vstack((array1, array2))\n",
    "horizontal_concat = np.hstack((array1, array2))\n",
    "print(\"Vertical Concatenation: \\n\", vertical_concat)\n",
    "print(\"Horizontal Concatenation: \\n\", horizontal_concat)"
   ]
  },
  {
   "cell_type": "code",
   "execution_count": 9,
   "id": "38f13ebb-e615-4308-9600-c1e3254ac19c",
   "metadata": {},
   "outputs": [
    {
     "name": "stdout",
     "output_type": "stream",
     "text": [
      "Even numbers: [0 2 4 6 8] \n",
      " Odd numbers: [0 3 6 9]\n"
     ]
    }
   ],
   "source": [
    "array = np.arange(10)\n",
    "even_numbers = array[::2]\n",
    "odd_numbers = array[::3]\n",
    "print(\"Even numbers:\", even_numbers ,\"\\n\",\"Odd numbers:\",odd_numbers)"
   ]
  },
  {
   "cell_type": "code",
   "execution_count": null,
   "id": "b33cca96-2004-421d-b6b0-45a1486d352c",
   "metadata": {},
   "outputs": [],
   "source": [
    "Pandas"
   ]
  },
  {
   "cell_type": "code",
   "execution_count": 10,
   "id": "0b93c087-9da9-4eb3-a4fe-bb26a238577f",
   "metadata": {},
   "outputs": [],
   "source": [
    "import pandas as pd"
   ]
  },
  {
   "cell_type": "code",
   "execution_count": 24,
   "id": "059a7183-583e-44bd-8e45-9af424238497",
   "metadata": {},
   "outputs": [],
   "source": [
    "df=pd.read_csv('data.csv')\n"
   ]
  },
  {
   "cell_type": "code",
   "execution_count": 25,
   "id": "16dfbfef-73ab-497d-8f6c-954d4ee6a331",
   "metadata": {},
   "outputs": [
    {
     "data": {
      "text/plain": [
       "Index(['Unnamed: 0', 'state', 'colonies_number', 'yield_per_colony',\n",
       "       'production', 'stocks', 'average_price', 'value_of_production', 'year'],\n",
       "      dtype='object')"
      ]
     },
     "execution_count": 25,
     "metadata": {},
     "output_type": "execute_result"
    }
   ],
   "source": [
    "df.columns"
   ]
  },
  {
   "cell_type": "code",
   "execution_count": 26,
   "id": "8fce7619-3348-4035-8bd4-9c600cf5a818",
   "metadata": {},
   "outputs": [
    {
     "data": {
      "text/html": [
       "<div>\n",
       "<style scoped>\n",
       "    .dataframe tbody tr th:only-of-type {\n",
       "        vertical-align: middle;\n",
       "    }\n",
       "\n",
       "    .dataframe tbody tr th {\n",
       "        vertical-align: top;\n",
       "    }\n",
       "\n",
       "    .dataframe thead th {\n",
       "        text-align: right;\n",
       "    }\n",
       "</style>\n",
       "<table border=\"1\" class=\"dataframe\">\n",
       "  <thead>\n",
       "    <tr style=\"text-align: right;\">\n",
       "      <th></th>\n",
       "      <th>Unnamed: 0</th>\n",
       "      <th>state</th>\n",
       "      <th>colonies_number</th>\n",
       "      <th>yield_per_colony</th>\n",
       "      <th>production</th>\n",
       "      <th>stocks</th>\n",
       "      <th>average_price</th>\n",
       "      <th>value_of_production</th>\n",
       "      <th>year</th>\n",
       "    </tr>\n",
       "  </thead>\n",
       "  <tbody>\n",
       "    <tr>\n",
       "      <th>0</th>\n",
       "      <td>0</td>\n",
       "      <td>Alabama</td>\n",
       "      <td>16000</td>\n",
       "      <td>58</td>\n",
       "      <td>928000</td>\n",
       "      <td>28000</td>\n",
       "      <td>62</td>\n",
       "      <td>575000</td>\n",
       "      <td>1995</td>\n",
       "    </tr>\n",
       "    <tr>\n",
       "      <th>1</th>\n",
       "      <td>1</td>\n",
       "      <td>Arizona</td>\n",
       "      <td>52000</td>\n",
       "      <td>79</td>\n",
       "      <td>4108000</td>\n",
       "      <td>986000</td>\n",
       "      <td>68</td>\n",
       "      <td>2793000</td>\n",
       "      <td>1995</td>\n",
       "    </tr>\n",
       "    <tr>\n",
       "      <th>2</th>\n",
       "      <td>2</td>\n",
       "      <td>Arkansas</td>\n",
       "      <td>50000</td>\n",
       "      <td>60</td>\n",
       "      <td>3000000</td>\n",
       "      <td>900000</td>\n",
       "      <td>64</td>\n",
       "      <td>1920000</td>\n",
       "      <td>1995</td>\n",
       "    </tr>\n",
       "    <tr>\n",
       "      <th>3</th>\n",
       "      <td>3</td>\n",
       "      <td>California</td>\n",
       "      <td>420000</td>\n",
       "      <td>93</td>\n",
       "      <td>39060000</td>\n",
       "      <td>4687000</td>\n",
       "      <td>60</td>\n",
       "      <td>23436000</td>\n",
       "      <td>1995</td>\n",
       "    </tr>\n",
       "    <tr>\n",
       "      <th>4</th>\n",
       "      <td>4</td>\n",
       "      <td>Colorado</td>\n",
       "      <td>45000</td>\n",
       "      <td>60</td>\n",
       "      <td>2700000</td>\n",
       "      <td>1404000</td>\n",
       "      <td>68</td>\n",
       "      <td>1836000</td>\n",
       "      <td>1995</td>\n",
       "    </tr>\n",
       "  </tbody>\n",
       "</table>\n",
       "</div>"
      ],
      "text/plain": [
       "   Unnamed: 0       state  colonies_number  yield_per_colony  production  \\\n",
       "0           0     Alabama            16000                58      928000   \n",
       "1           1     Arizona            52000                79     4108000   \n",
       "2           2    Arkansas            50000                60     3000000   \n",
       "3           3  California           420000                93    39060000   \n",
       "4           4    Colorado            45000                60     2700000   \n",
       "\n",
       "    stocks  average_price  value_of_production  year  \n",
       "0    28000             62               575000  1995  \n",
       "1   986000             68              2793000  1995  \n",
       "2   900000             64              1920000  1995  \n",
       "3  4687000             60             23436000  1995  \n",
       "4  1404000             68              1836000  1995  "
      ]
     },
     "execution_count": 26,
     "metadata": {},
     "output_type": "execute_result"
    }
   ],
   "source": [
    "df.head()"
   ]
  },
  {
   "cell_type": "code",
   "execution_count": 27,
   "id": "e4b7706a-ccde-402f-a27c-d6e6e0814bbf",
   "metadata": {},
   "outputs": [
    {
     "data": {
      "text/html": [
       "<div>\n",
       "<style scoped>\n",
       "    .dataframe tbody tr th:only-of-type {\n",
       "        vertical-align: middle;\n",
       "    }\n",
       "\n",
       "    .dataframe tbody tr th {\n",
       "        vertical-align: top;\n",
       "    }\n",
       "\n",
       "    .dataframe thead th {\n",
       "        text-align: right;\n",
       "    }\n",
       "</style>\n",
       "<table border=\"1\" class=\"dataframe\">\n",
       "  <thead>\n",
       "    <tr style=\"text-align: right;\">\n",
       "      <th></th>\n",
       "      <th>Unnamed: 0</th>\n",
       "      <th>state</th>\n",
       "      <th>colonies_number</th>\n",
       "      <th>yield_per_colony</th>\n",
       "      <th>production</th>\n",
       "      <th>stocks</th>\n",
       "      <th>average_price</th>\n",
       "      <th>value_of_production</th>\n",
       "      <th>year</th>\n",
       "    </tr>\n",
       "  </thead>\n",
       "  <tbody>\n",
       "    <tr>\n",
       "      <th>6</th>\n",
       "      <td>6</td>\n",
       "      <td>Georgia</td>\n",
       "      <td>70000</td>\n",
       "      <td>62</td>\n",
       "      <td>4340000</td>\n",
       "      <td>260000</td>\n",
       "      <td>69</td>\n",
       "      <td>2995000</td>\n",
       "      <td>1995</td>\n",
       "    </tr>\n",
       "    <tr>\n",
       "      <th>7</th>\n",
       "      <td>7</td>\n",
       "      <td>Hawaii</td>\n",
       "      <td>8000</td>\n",
       "      <td>129</td>\n",
       "      <td>1032000</td>\n",
       "      <td>103000</td>\n",
       "      <td>55</td>\n",
       "      <td>568000</td>\n",
       "      <td>1995</td>\n",
       "    </tr>\n",
       "    <tr>\n",
       "      <th>8</th>\n",
       "      <td>8</td>\n",
       "      <td>Idaho</td>\n",
       "      <td>125000</td>\n",
       "      <td>48</td>\n",
       "      <td>6000000</td>\n",
       "      <td>1020000</td>\n",
       "      <td>65</td>\n",
       "      <td>3900000</td>\n",
       "      <td>1995</td>\n",
       "    </tr>\n",
       "    <tr>\n",
       "      <th>9</th>\n",
       "      <td>9</td>\n",
       "      <td>Illinois</td>\n",
       "      <td>11000</td>\n",
       "      <td>74</td>\n",
       "      <td>814000</td>\n",
       "      <td>212000</td>\n",
       "      <td>102</td>\n",
       "      <td>830000</td>\n",
       "      <td>1995</td>\n",
       "    </tr>\n",
       "    <tr>\n",
       "      <th>10</th>\n",
       "      <td>10</td>\n",
       "      <td>Indiana</td>\n",
       "      <td>12000</td>\n",
       "      <td>63</td>\n",
       "      <td>756000</td>\n",
       "      <td>166000</td>\n",
       "      <td>68</td>\n",
       "      <td>514000</td>\n",
       "      <td>1995</td>\n",
       "    </tr>\n",
       "  </tbody>\n",
       "</table>\n",
       "</div>"
      ],
      "text/plain": [
       "    Unnamed: 0     state  colonies_number  yield_per_colony  production  \\\n",
       "6            6   Georgia            70000                62     4340000   \n",
       "7            7    Hawaii             8000               129     1032000   \n",
       "8            8     Idaho           125000                48     6000000   \n",
       "9            9  Illinois            11000                74      814000   \n",
       "10          10   Indiana            12000                63      756000   \n",
       "\n",
       "     stocks  average_price  value_of_production  year  \n",
       "6    260000             69              2995000  1995  \n",
       "7    103000             55               568000  1995  \n",
       "8   1020000             65              3900000  1995  \n",
       "9    212000            102               830000  1995  \n",
       "10   166000             68               514000  1995  "
      ]
     },
     "execution_count": 27,
     "metadata": {},
     "output_type": "execute_result"
    }
   ],
   "source": [
    "df.tail()"
   ]
  },
  {
   "cell_type": "code",
   "execution_count": 28,
   "id": "a25c67f5-4b04-4df0-a4c5-a1fe478f72fc",
   "metadata": {},
   "outputs": [
    {
     "name": "stdout",
     "output_type": "stream",
     "text": [
      "<class 'pandas.core.frame.DataFrame'>\n",
      "RangeIndex: 11 entries, 0 to 10\n",
      "Data columns (total 9 columns):\n",
      " #   Column               Non-Null Count  Dtype \n",
      "---  ------               --------------  ----- \n",
      " 0   Unnamed: 0           11 non-null     int64 \n",
      " 1   state                11 non-null     object\n",
      " 2   colonies_number      11 non-null     int64 \n",
      " 3   yield_per_colony     11 non-null     int64 \n",
      " 4   production           11 non-null     int64 \n",
      " 5   stocks               11 non-null     int64 \n",
      " 6   average_price        11 non-null     int64 \n",
      " 7   value_of_production  11 non-null     int64 \n",
      " 8   year                 11 non-null     int64 \n",
      "dtypes: int64(8), object(1)\n",
      "memory usage: 924.0+ bytes\n"
     ]
    }
   ],
   "source": [
    "df.info()"
   ]
  },
  {
   "cell_type": "code",
   "execution_count": 29,
   "id": "8a2b83c8-e8de-4022-bbb1-a3dc7ea173c3",
   "metadata": {},
   "outputs": [
    {
     "data": {
      "text/plain": [
       "Unnamed: 0             0\n",
       "state                  0\n",
       "colonies_number        0\n",
       "yield_per_colony       0\n",
       "production             0\n",
       "stocks                 0\n",
       "average_price          0\n",
       "value_of_production    0\n",
       "year                   0\n",
       "dtype: int64"
      ]
     },
     "execution_count": 29,
     "metadata": {},
     "output_type": "execute_result"
    }
   ],
   "source": [
    "df.isnull().sum()"
   ]
  },
  {
   "cell_type": "code",
   "execution_count": 30,
   "id": "b5ce4966-911f-4359-a51b-66eee62a16d0",
   "metadata": {},
   "outputs": [
    {
     "data": {
      "text/plain": [
       "0"
      ]
     },
     "execution_count": 30,
     "metadata": {},
     "output_type": "execute_result"
    }
   ],
   "source": [
    "df.duplicated().sum()"
   ]
  },
  {
   "cell_type": "code",
   "execution_count": 31,
   "id": "49d8e78e-1415-4f52-889d-7fd0ea4bc493",
   "metadata": {},
   "outputs": [
    {
     "data": {
      "text/plain": [
       "0      Alabama\n",
       "2     Arkansas\n",
       "4     Colorado\n",
       "6      Georgia\n",
       "8        Idaho\n",
       "10     Indiana\n",
       "Name: state, dtype: object"
      ]
     },
     "execution_count": 31,
     "metadata": {},
     "output_type": "execute_result"
    }
   ],
   "source": [
    "df['state'][::2]"
   ]
  },
  {
   "cell_type": "code",
   "execution_count": 32,
   "id": "8ef7c6d9-04d3-427e-83bd-e3ee27490b30",
   "metadata": {},
   "outputs": [
    {
     "data": {
      "text/html": [
       "<div>\n",
       "<style scoped>\n",
       "    .dataframe tbody tr th:only-of-type {\n",
       "        vertical-align: middle;\n",
       "    }\n",
       "\n",
       "    .dataframe tbody tr th {\n",
       "        vertical-align: top;\n",
       "    }\n",
       "\n",
       "    .dataframe thead th {\n",
       "        text-align: right;\n",
       "    }\n",
       "</style>\n",
       "<table border=\"1\" class=\"dataframe\">\n",
       "  <thead>\n",
       "    <tr style=\"text-align: right;\">\n",
       "      <th></th>\n",
       "      <th>Unnamed: 0</th>\n",
       "      <th>colonies_number</th>\n",
       "      <th>yield_per_colony</th>\n",
       "      <th>production</th>\n",
       "      <th>stocks</th>\n",
       "      <th>average_price</th>\n",
       "      <th>value_of_production</th>\n",
       "      <th>state_Arizona</th>\n",
       "      <th>state_Arkansas</th>\n",
       "      <th>state_California</th>\n",
       "      <th>state_Colorado</th>\n",
       "      <th>state_Florida</th>\n",
       "      <th>state_Georgia</th>\n",
       "      <th>state_Hawaii</th>\n",
       "      <th>state_Idaho</th>\n",
       "      <th>state_Illinois</th>\n",
       "      <th>state_Indiana</th>\n",
       "    </tr>\n",
       "  </thead>\n",
       "  <tbody>\n",
       "    <tr>\n",
       "      <th>0</th>\n",
       "      <td>0</td>\n",
       "      <td>16000</td>\n",
       "      <td>58</td>\n",
       "      <td>928000</td>\n",
       "      <td>28000</td>\n",
       "      <td>62</td>\n",
       "      <td>575000</td>\n",
       "      <td>False</td>\n",
       "      <td>False</td>\n",
       "      <td>False</td>\n",
       "      <td>False</td>\n",
       "      <td>False</td>\n",
       "      <td>False</td>\n",
       "      <td>False</td>\n",
       "      <td>False</td>\n",
       "      <td>False</td>\n",
       "      <td>False</td>\n",
       "    </tr>\n",
       "    <tr>\n",
       "      <th>1</th>\n",
       "      <td>1</td>\n",
       "      <td>52000</td>\n",
       "      <td>79</td>\n",
       "      <td>4108000</td>\n",
       "      <td>986000</td>\n",
       "      <td>68</td>\n",
       "      <td>2793000</td>\n",
       "      <td>True</td>\n",
       "      <td>False</td>\n",
       "      <td>False</td>\n",
       "      <td>False</td>\n",
       "      <td>False</td>\n",
       "      <td>False</td>\n",
       "      <td>False</td>\n",
       "      <td>False</td>\n",
       "      <td>False</td>\n",
       "      <td>False</td>\n",
       "    </tr>\n",
       "    <tr>\n",
       "      <th>2</th>\n",
       "      <td>2</td>\n",
       "      <td>50000</td>\n",
       "      <td>60</td>\n",
       "      <td>3000000</td>\n",
       "      <td>900000</td>\n",
       "      <td>64</td>\n",
       "      <td>1920000</td>\n",
       "      <td>False</td>\n",
       "      <td>True</td>\n",
       "      <td>False</td>\n",
       "      <td>False</td>\n",
       "      <td>False</td>\n",
       "      <td>False</td>\n",
       "      <td>False</td>\n",
       "      <td>False</td>\n",
       "      <td>False</td>\n",
       "      <td>False</td>\n",
       "    </tr>\n",
       "    <tr>\n",
       "      <th>3</th>\n",
       "      <td>3</td>\n",
       "      <td>420000</td>\n",
       "      <td>93</td>\n",
       "      <td>39060000</td>\n",
       "      <td>4687000</td>\n",
       "      <td>60</td>\n",
       "      <td>23436000</td>\n",
       "      <td>False</td>\n",
       "      <td>False</td>\n",
       "      <td>True</td>\n",
       "      <td>False</td>\n",
       "      <td>False</td>\n",
       "      <td>False</td>\n",
       "      <td>False</td>\n",
       "      <td>False</td>\n",
       "      <td>False</td>\n",
       "      <td>False</td>\n",
       "    </tr>\n",
       "    <tr>\n",
       "      <th>4</th>\n",
       "      <td>4</td>\n",
       "      <td>45000</td>\n",
       "      <td>60</td>\n",
       "      <td>2700000</td>\n",
       "      <td>1404000</td>\n",
       "      <td>68</td>\n",
       "      <td>1836000</td>\n",
       "      <td>False</td>\n",
       "      <td>False</td>\n",
       "      <td>False</td>\n",
       "      <td>True</td>\n",
       "      <td>False</td>\n",
       "      <td>False</td>\n",
       "      <td>False</td>\n",
       "      <td>False</td>\n",
       "      <td>False</td>\n",
       "      <td>False</td>\n",
       "    </tr>\n",
       "    <tr>\n",
       "      <th>5</th>\n",
       "      <td>5</td>\n",
       "      <td>230000</td>\n",
       "      <td>86</td>\n",
       "      <td>19780000</td>\n",
       "      <td>1780000</td>\n",
       "      <td>63</td>\n",
       "      <td>12461000</td>\n",
       "      <td>False</td>\n",
       "      <td>False</td>\n",
       "      <td>False</td>\n",
       "      <td>False</td>\n",
       "      <td>True</td>\n",
       "      <td>False</td>\n",
       "      <td>False</td>\n",
       "      <td>False</td>\n",
       "      <td>False</td>\n",
       "      <td>False</td>\n",
       "    </tr>\n",
       "    <tr>\n",
       "      <th>6</th>\n",
       "      <td>6</td>\n",
       "      <td>70000</td>\n",
       "      <td>62</td>\n",
       "      <td>4340000</td>\n",
       "      <td>260000</td>\n",
       "      <td>69</td>\n",
       "      <td>2995000</td>\n",
       "      <td>False</td>\n",
       "      <td>False</td>\n",
       "      <td>False</td>\n",
       "      <td>False</td>\n",
       "      <td>False</td>\n",
       "      <td>True</td>\n",
       "      <td>False</td>\n",
       "      <td>False</td>\n",
       "      <td>False</td>\n",
       "      <td>False</td>\n",
       "    </tr>\n",
       "    <tr>\n",
       "      <th>7</th>\n",
       "      <td>7</td>\n",
       "      <td>8000</td>\n",
       "      <td>129</td>\n",
       "      <td>1032000</td>\n",
       "      <td>103000</td>\n",
       "      <td>55</td>\n",
       "      <td>568000</td>\n",
       "      <td>False</td>\n",
       "      <td>False</td>\n",
       "      <td>False</td>\n",
       "      <td>False</td>\n",
       "      <td>False</td>\n",
       "      <td>False</td>\n",
       "      <td>True</td>\n",
       "      <td>False</td>\n",
       "      <td>False</td>\n",
       "      <td>False</td>\n",
       "    </tr>\n",
       "    <tr>\n",
       "      <th>8</th>\n",
       "      <td>8</td>\n",
       "      <td>125000</td>\n",
       "      <td>48</td>\n",
       "      <td>6000000</td>\n",
       "      <td>1020000</td>\n",
       "      <td>65</td>\n",
       "      <td>3900000</td>\n",
       "      <td>False</td>\n",
       "      <td>False</td>\n",
       "      <td>False</td>\n",
       "      <td>False</td>\n",
       "      <td>False</td>\n",
       "      <td>False</td>\n",
       "      <td>False</td>\n",
       "      <td>True</td>\n",
       "      <td>False</td>\n",
       "      <td>False</td>\n",
       "    </tr>\n",
       "    <tr>\n",
       "      <th>9</th>\n",
       "      <td>9</td>\n",
       "      <td>11000</td>\n",
       "      <td>74</td>\n",
       "      <td>814000</td>\n",
       "      <td>212000</td>\n",
       "      <td>102</td>\n",
       "      <td>830000</td>\n",
       "      <td>False</td>\n",
       "      <td>False</td>\n",
       "      <td>False</td>\n",
       "      <td>False</td>\n",
       "      <td>False</td>\n",
       "      <td>False</td>\n",
       "      <td>False</td>\n",
       "      <td>False</td>\n",
       "      <td>True</td>\n",
       "      <td>False</td>\n",
       "    </tr>\n",
       "    <tr>\n",
       "      <th>10</th>\n",
       "      <td>10</td>\n",
       "      <td>12000</td>\n",
       "      <td>63</td>\n",
       "      <td>756000</td>\n",
       "      <td>166000</td>\n",
       "      <td>68</td>\n",
       "      <td>514000</td>\n",
       "      <td>False</td>\n",
       "      <td>False</td>\n",
       "      <td>False</td>\n",
       "      <td>False</td>\n",
       "      <td>False</td>\n",
       "      <td>False</td>\n",
       "      <td>False</td>\n",
       "      <td>False</td>\n",
       "      <td>False</td>\n",
       "      <td>True</td>\n",
       "    </tr>\n",
       "  </tbody>\n",
       "</table>\n",
       "</div>"
      ],
      "text/plain": [
       "    Unnamed: 0  colonies_number  yield_per_colony  production   stocks  \\\n",
       "0            0            16000                58      928000    28000   \n",
       "1            1            52000                79     4108000   986000   \n",
       "2            2            50000                60     3000000   900000   \n",
       "3            3           420000                93    39060000  4687000   \n",
       "4            4            45000                60     2700000  1404000   \n",
       "5            5           230000                86    19780000  1780000   \n",
       "6            6            70000                62     4340000   260000   \n",
       "7            7             8000               129     1032000   103000   \n",
       "8            8           125000                48     6000000  1020000   \n",
       "9            9            11000                74      814000   212000   \n",
       "10          10            12000                63      756000   166000   \n",
       "\n",
       "    average_price  value_of_production  state_Arizona  state_Arkansas  \\\n",
       "0              62               575000          False           False   \n",
       "1              68              2793000           True           False   \n",
       "2              64              1920000          False            True   \n",
       "3              60             23436000          False           False   \n",
       "4              68              1836000          False           False   \n",
       "5              63             12461000          False           False   \n",
       "6              69              2995000          False           False   \n",
       "7              55               568000          False           False   \n",
       "8              65              3900000          False           False   \n",
       "9             102               830000          False           False   \n",
       "10             68               514000          False           False   \n",
       "\n",
       "    state_California  state_Colorado  state_Florida  state_Georgia  \\\n",
       "0              False           False          False          False   \n",
       "1              False           False          False          False   \n",
       "2              False           False          False          False   \n",
       "3               True           False          False          False   \n",
       "4              False            True          False          False   \n",
       "5              False           False           True          False   \n",
       "6              False           False          False           True   \n",
       "7              False           False          False          False   \n",
       "8              False           False          False          False   \n",
       "9              False           False          False          False   \n",
       "10             False           False          False          False   \n",
       "\n",
       "    state_Hawaii  state_Idaho  state_Illinois  state_Indiana  \n",
       "0          False        False           False          False  \n",
       "1          False        False           False          False  \n",
       "2          False        False           False          False  \n",
       "3          False        False           False          False  \n",
       "4          False        False           False          False  \n",
       "5          False        False           False          False  \n",
       "6          False        False           False          False  \n",
       "7           True        False           False          False  \n",
       "8          False         True           False          False  \n",
       "9          False        False            True          False  \n",
       "10         False        False           False           True  "
      ]
     },
     "execution_count": 32,
     "metadata": {},
     "output_type": "execute_result"
    }
   ],
   "source": [
    "#k-1 hot encoding can eb done thorugh pandas but it's not preferred approach\n",
    "pd.get_dummies(df,columns=['state','year'],drop_first=True)"
   ]
  },
  {
   "cell_type": "raw",
   "id": "834a9125-2dcb-4782-9a35-5ce9094b2466",
   "metadata": {},
   "source": [
    "Seaborn"
   ]
  },
  {
   "cell_type": "code",
   "execution_count": 33,
   "id": "c2bacf07-65fb-48ff-b9e2-986bbfb974d6",
   "metadata": {},
   "outputs": [],
   "source": [
    "import seaborn as sns\n",
    "import matplotlib.pyplot as plt"
   ]
  },
  {
   "cell_type": "code",
   "execution_count": 36,
   "id": "88aaeedc-276a-4dd8-8636-7a1a78b19fbf",
   "metadata": {},
   "outputs": [],
   "source": [
    "df = sns.load_dataset('iris')\n"
   ]
  },
  {
   "cell_type": "code",
   "execution_count": 37,
   "id": "33ff4dee-ca2c-4715-bde4-548bc4f72c78",
   "metadata": {},
   "outputs": [
    {
     "data": {
      "text/plain": [
       "Index(['sepal_length', 'sepal_width', 'petal_length', 'petal_width',\n",
       "       'species'],\n",
       "      dtype='object')"
      ]
     },
     "execution_count": 37,
     "metadata": {},
     "output_type": "execute_result"
    }
   ],
   "source": [
    "df.columns"
   ]
  },
  {
   "cell_type": "code",
   "execution_count": 38,
   "id": "9c6fa822-2f5a-42a0-b124-d695be5ce2be",
   "metadata": {},
   "outputs": [
    {
     "data": {
      "text/plain": [
       "sepal_length    0\n",
       "sepal_width     0\n",
       "petal_length    0\n",
       "petal_width     0\n",
       "species         0\n",
       "dtype: int64"
      ]
     },
     "execution_count": 38,
     "metadata": {},
     "output_type": "execute_result"
    }
   ],
   "source": [
    "df.isnull().sum()"
   ]
  },
  {
   "cell_type": "code",
   "execution_count": 40,
   "id": "37eb4459-4512-4f46-bef7-52a8262af287",
   "metadata": {},
   "outputs": [
    {
     "data": {
      "image/png": "[encoded data removed]",
      "text/plain": [
       "<Figure size 640x480 with 1 Axes>"
      ]
     },
     "metadata": {},
     "output_type": "display_data"
    }
   ],
   "source": [
    "sns.histplot(data=df, x='sepal_length', hue='species', multiple='stack', kde=True)\n",
    "plt.title('Histogram of Sepal Length by Species')\n",
    "plt.xlabel('Sepal Length')\n",
    "plt.ylabel('Count')\n",
    "plt.show()"
   ]
  },
  {
   "cell_type": "code",
   "execution_count": 42,
   "id": "4d0d7980-d0a3-4300-a238-c02a1c3aef5f",
   "metadata": {},
   "outputs": [
    {
     "data": {
      "image/png": "[encoded data removed]",
      "text/plain": [
       "<Figure size 640x480 with 1 Axes>"
      ]
     },
     "metadata": {},
     "output_type": "display_data"
    }
   ],
   "source": [
    "\n",
    "df = sns.load_dataset('flights')\n",
    "\n",
    "# Group by year and calculate the mean number of passengers\n",
    "yearly_passengers = df.groupby('year')['passengers'].mean().reset_index()\n",
    "\n",
    "# Plotting\n",
    "sns.lineplot(data=yearly_passengers, x='year', y='passengers')\n",
    "plt.title('Average Number of Passengers Per Year')\n",
    "plt.xlabel('Year')\n",
    "plt.ylabel('Average Passengers')\n",
    "plt.show()\n"
   ]
  },
  {
   "cell_type": "raw",
   "id": "35f8a220-7981-4a43-9db9-27b6033bcb94",
   "metadata": {},
   "source": [
    "Scikit-learn\n"
   ]
  }
 ],
 "metadata": {
  "kernelspec": {
   "display_name": "Python 3 (ipykernel)",
   "language": "python",
   "name": "python3"
  },
  "language_info": {
   "codemirror_mode": {
    "name": "ipython",
    "version": 3
   },
   "file_extension": ".py",
   "mimetype": "text/x-python",
   "name": "python",
   "nbconvert_exporter": "python",
   "pygments_lexer": "ipython3",
   "version": "3.12.2"
  }
 },
 "nbformat": 4,
 "nbformat_minor": 5
}

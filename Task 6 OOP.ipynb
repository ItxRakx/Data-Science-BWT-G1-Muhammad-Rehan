{
 "cells": [
  {
   "cell_type": "raw",
   "id": "0818a78f-32a5-43b6-b2b0-3b0e66c3caf7",
   "metadata": {},
   "source": [
    "Creating and using a Class"
   ]
  },
  {
   "cell_type": "code",
   "execution_count": 1,
   "id": "4b3e2c0f-ef5d-4d02-a049-6fdf57420afe",
   "metadata": {},
   "outputs": [
    {
     "name": "stdout",
     "output_type": "stream",
     "text": [
      "Resturant name : Cheezious Pasta Palace\n",
      "Cuisine : Italian\n",
      "The restaurant Cheezious Pasta Palace serves Italian cuisines.\n",
      "The restaurant Cheezious Pasta Palace is now open :)!\n"
     ]
    }
   ],
   "source": [
    "# Example9.1\n",
    "class Restaurant:\n",
    "    def __init__(self, restaurant_name, cuisine_type):\n",
    "        self.restaurant_name = restaurant_name\n",
    "        self.cuisine_type = cuisine_type\n",
    "\n",
    "    def describe_restaurant(self):\n",
    "        print(f\"The restaurant {self.restaurant_name} serves {self.cuisine_type} cuisines.\")\n",
    "\n",
    "    def open_restaurant(self):\n",
    "        print(f\"The restaurant {self.restaurant_name} is now open :)!\")\n",
    "\n",
    "#instance of the Restaurant class\n",
    "restaurant = Restaurant(\"Cheezious Pasta Palace\", \"Italian\")\n",
    "\n",
    "print(\"Resturant name :\",restaurant.restaurant_name)\n",
    "print(\"Cuisine :\",restaurant.cuisine_type)\n",
    "\n",
    "# Calling the methods we created \n",
    "restaurant.describe_restaurant()\n",
    "restaurant.open_restaurant()"
   ]
  },
  {
   "cell_type": "code",
   "execution_count": 2,
   "id": "526afc86-7550-4f20-8d42-9bf48b77bee5",
   "metadata": {},
   "outputs": [
    {
     "name": "stdout",
     "output_type": "stream",
     "text": [
      "The restaurant Cheezious Pasta Palace serves Italian cuisines.\n",
      "The restaurant Sushi Palace  serves Japanese cuisines.\n",
      "The restaurant Monal serves Pakistani cuisines.\n"
     ]
    }
   ],
   "source": [
    "#Example 9.2\n",
    "res1 = Restaurant(\"Cheezious Pasta Palace\", \"Italian\")\n",
    "res2 = Restaurant(\"Sushi Palace \", \"Japanese\")\n",
    "res3 = Restaurant(\"Monal\", \"Pakistani\")\n",
    "\n",
    "res1.describe_restaurant()\n",
    "res2.describe_restaurant()\n",
    "res3.describe_restaurant()"
   ]
  },
  {
   "cell_type": "code",
   "execution_count": 3,
   "id": "6e3b512a-d5e7-4ba2-bbe2-46eac47ed11f",
   "metadata": {},
   "outputs": [
    {
     "name": "stdout",
     "output_type": "stream",
     "text": [
      "User Profile:\n",
      "First Name: Hashir\n",
      "Last Name: Doe\n",
      "Age: 28\n",
      "Email: john.doe@example.com\n",
      "\n",
      "Hello, Hashir Doe! Welcome back :)\n",
      "\n",
      "User Profile:\n",
      "First Name: Rehan\n",
      "Last Name: Smith\n",
      "Age: 34\n",
      "Email: zain.smith@example.com\n",
      "\n",
      "Hello, Rehan Smith! Welcome back :)\n",
      "\n",
      "User Profile:\n",
      "First Name: Ali\n",
      "Last Name: Johnson\n",
      "Age: 25\n",
      "Email: ali.johnson@example.com\n",
      "\n",
      "Hello, Ali Johnson! Welcome back :)\n",
      "\n"
     ]
    }
   ],
   "source": [
    "#Example 9.3\n",
    "class User:\n",
    "    def __init__(self, first_name, last_name, age, email):\n",
    "        self.first_name = first_name\n",
    "        self.last_name = last_name\n",
    "        self.age = age\n",
    "        self.email = email\n",
    "        \n",
    "    def describe_user(self):\n",
    "        print(f\"User Profile:\\n\" # moving to next line\n",
    "              f\"First Name: {self.first_name}\\n\"\n",
    "              f\"Last Name: {self.last_name}\\n\"\n",
    "              f\"Age: {self.age}\\n\"\n",
    "              f\"Email: {self.email}\\n\")\n",
    "              \n",
    "    def greet_user(self):\n",
    "        print(f\"Hello, {self.first_name} {self.last_name}! Welcome back :)\")\n",
    "\n",
    "# Creating several instances representing different users\n",
    "user1 = User(\"Hashir\", \"Doe\", 28, \"john.doe@example.com\")\n",
    "user2 = User(\"Rehan\", \"Smith\", 34, \"zain.smith@example.com\")\n",
    "user3 = User(\"Ali\", \"Johnson\", 25, \"ali.johnson@example.com\")\n",
    "# create a list to store all instances we created and run a loop to print them out\n",
    "users = [user1, user2, user3]\n",
    "for user in users:\n",
    "    user.describe_user()\n",
    "    user.greet_user()\n",
    "    print()"
   ]
  },
  {
   "cell_type": "raw",
   "id": "af099a43-5bf6-400f-9d68-d7c9d5a76674",
   "metadata": {},
   "source": [
    "Inheritance Use"
   ]
  },
  {
   "cell_type": "code",
   "execution_count": 4,
   "id": "2370c377-735c-4b4e-9f2b-eebe3448b80e",
   "metadata": {},
   "outputs": [
    {
     "name": "stdout",
     "output_type": "stream",
     "text": [
      "Available flavors:\n",
      "Vanilla\n",
      "Chocolate\n",
      "Strawberry\n",
      "Mint\n"
     ]
    }
   ],
   "source": [
    "class IceCreamStand(Restaurant):\n",
    "    def __init__(self, restaurant_name, cuisine_type, flavors):\n",
    "        # we inherited some the attributes and methods of super class Resturant\n",
    "        super().__init__(restaurant_name, cuisine_type)\n",
    "        self.flavors = flavors\n",
    "\n",
    "    def display_flavors(self):\n",
    "        print(\"Available flavors:\")\n",
    "        for flavor in self.flavors:\n",
    "            print(f\"{flavor}\")\n",
    "\n",
    "ice_cream_stand = IceCreamStand(\"Sweet Treats\", \"Ice Cream\", [\"Vanilla\", \"Chocolate\", \"Strawberry\", \"Mint\"])\n",
    "\n",
    "\n",
    "ice_cream_stand.display_flavors()"
   ]
  },
  {
   "cell_type": "code",
   "execution_count": 5,
   "id": "b3d30d00-8fc9-431f-84a0-eb6a38238eea",
   "metadata": {},
   "outputs": [
    {
     "name": "stdout",
     "output_type": "stream",
     "text": [
      "Admin privileges:\n",
      "- can add post\n",
      "- can delete post\n",
      "- can ban user\n"
     ]
    }
   ],
   "source": [
    "class Privileges:\n",
    "    def __init__(self, privileges):\n",
    "        self.privileges = privileges\n",
    "\n",
    "    def show_privileges(self):\n",
    "        print(\"Admin privileges:\")\n",
    "        for privilege in self.privileges:\n",
    "            print(f\"- {privilege}\")\n",
    "\n",
    "class Admin(User):\n",
    "    def __init__(self, first_name, last_name, age, email, privileges):\n",
    "        # here super class User we created above \n",
    "        super().__init__(first_name, last_name, age, email)\n",
    "        self.privileges = Privileges(privileges)\n",
    "\n",
    "# Creating an instance of Admin\n",
    "admin_user = Admin(\"Alice\", \"Johnson\", 30, \"alice.j@example.com\", [\"can add post\", \"can delete post\", \"can ban user\"])\n",
    "\n",
    "# Calling the method to show privileges\n",
    "admin_user.privileges.show_privileges()"
   ]
  },
  {
   "cell_type": "code",
   "execution_count": 6,
   "id": "a630b5d3-06d6-43a7-a00e-f25397e5f004",
   "metadata": {},
   "outputs": [
    {
     "name": "stdout",
     "output_type": "stream",
     "text": [
      "This car can go approximately 240 miles on a full charge with 60 kwh Battery size.\n",
      "Battery upgraded to 85 kWh.\n",
      "This car can go approximately 270 miles on a full charge with 85 kwh Battery size.\n"
     ]
    }
   ],
   "source": [
    "# this part we got from book\n",
    "class Car:\n",
    "    def __init__(self, make, model, year):\n",
    "        self.make = make\n",
    "        self.model = model\n",
    "        self.year = year\n",
    "        self.odometer_reading = 0\n",
    "\n",
    "    def get_descriptive_name(self):\n",
    "        long_name = f\"{self.year} {self.make} {self.model}\"\n",
    "        return long_name.title()\n",
    "\n",
    "    def read_odometer(self):\n",
    "        print(f\"This car has {self.odometer_reading} miles on it.\")\n",
    "############ case if battery size should be equal to 85 to get increase it's range\n",
    "class Battery:\n",
    "    def __init__(self, battery_size=60):\n",
    "        self.battery_size = battery_size\n",
    "\n",
    "    def describe_battery(self):\n",
    "        print(f\"This car has a {self.battery_size}-kWh battery.\")\n",
    "# given conditions in problem statement\n",
    "    def get_range(self):\n",
    "        if self.battery_size == 60:\n",
    "            range = 240\n",
    "        elif self.battery_size == 85:# when it's equal to 85 we should increase range\n",
    "            range = 270\n",
    "\n",
    "        print(f\"This car can go approximately {range} miles on a full charge with {self.battery_size} kwh Battery size.\")\n",
    "\n",
    "    def upgrade_battery(self):\n",
    "        if self.battery_size != 85:\n",
    "            self.battery_size = 85\n",
    "            print(\"Battery upgraded to 85 kWh.\")\n",
    "        else:\n",
    "            print(\"Battery is already upgraded.\")\n",
    "\n",
    "class ElectricCar(Car):\n",
    "    def __init__(self, make, model, year):\n",
    "        super().__init__(make, model, year)\n",
    "        self.battery = Battery()\n",
    "\n",
    "my_car = ElectricCar('tesla', 'model y', 2022)\n",
    "my_car.battery.get_range()\n",
    "my_car.battery.upgrade_battery()\n",
    "my_car.battery.get_range()"
   ]
  },
  {
   "cell_type": "raw",
   "id": "8bda173a-8bb8-4d10-8e0b-8043fcd19f8a",
   "metadata": {},
   "source": [
    "Encapsulation"
   ]
  },
  {
   "cell_type": "code",
   "execution_count": 7,
   "id": "ab9eb029-86a4-4c44-bd67-94a90fa4164a",
   "metadata": {},
   "outputs": [
    {
     "name": "stdout",
     "output_type": "stream",
     "text": [
      "Name :Rehan, Age 23 and salary : 50,000 \n"
     ]
    }
   ],
   "source": [
    "class Employee:\n",
    "    def __init__(self,name,age,salary):\n",
    "        self.name=name\n",
    "        self.__age=age # now it's private\n",
    "        self.salary=salary\n",
    "        # we can access this private data using method display\n",
    "    def display(self):\n",
    "        print(f\"Name :{self.name}, Age {self.__age} and salary : {self.salary} \")\n",
    "E1=Employee('Rehan','23','50,000')\n",
    "E1.display()"
   ]
  },
  {
   "cell_type": "code",
   "execution_count": 8,
   "id": "e425b256-8b7a-4256-8dc5-0c08d8a5bfd4",
   "metadata": {},
   "outputs": [
    {
     "ename": "AttributeError",
     "evalue": "'Employee' object has no attribute '_EmpData__age'",
     "output_type": "error",
     "traceback": [
      "\u001b[1;31m---------------------------------------------------------------------------\u001b[0m",
      "\u001b[1;31mAttributeError\u001b[0m                            Traceback (most recent call last)",
      "Cell \u001b[1;32mIn[8], line 7\u001b[0m\n\u001b[0;32m      3\u001b[0m     \u001b[38;5;28;01mdef\u001b[39;00m \u001b[38;5;21m__init__\u001b[39m(\u001b[38;5;28mself\u001b[39m):\n\u001b[0;32m      4\u001b[0m         \u001b[38;5;66;03m# as ther is no privacy variable from employee class is available\u001b[39;00m\n\u001b[0;32m      5\u001b[0m         \u001b[38;5;28mprint\u001b[39m(E1\u001b[38;5;241m.\u001b[39m__age)\n\u001b[1;32m----> 7\u001b[0m ED\u001b[38;5;241m=\u001b[39m\u001b[43mEmpData\u001b[49m\u001b[43m(\u001b[49m\u001b[43m)\u001b[49m\n",
      "Cell \u001b[1;32mIn[8], line 5\u001b[0m, in \u001b[0;36mEmpData.__init__\u001b[1;34m(self)\u001b[0m\n\u001b[0;32m      3\u001b[0m \u001b[38;5;28;01mdef\u001b[39;00m \u001b[38;5;21m__init__\u001b[39m(\u001b[38;5;28mself\u001b[39m):\n\u001b[0;32m      4\u001b[0m     \u001b[38;5;66;03m# as ther is no privacy variable from employee class is available\u001b[39;00m\n\u001b[1;32m----> 5\u001b[0m     \u001b[38;5;28mprint\u001b[39m(\u001b[43mE1\u001b[49m\u001b[38;5;241;43m.\u001b[39;49m\u001b[43m__age\u001b[49m)\n",
      "\u001b[1;31mAttributeError\u001b[0m: 'Employee' object has no attribute '_EmpData__age'"
     ]
    }
   ],
   "source": [
    "#outside the class we can access them(variables) like this but we have to restrict which is hence encapsulation\n",
    "class EmpData:\n",
    "    def __init__(self):\n",
    "        # as ther is no privacy variable from employee class is available\n",
    "        print(E1.__age)\n",
    "        \n",
    "ED=EmpData()"
   ]
  },
  {
   "cell_type": "raw",
   "id": "f9018044-6ee9-4013-9939-5a02a4b769d4",
   "metadata": {},
   "source": [
    "Thus you can see after making it private age is not acessible to any other class outside it's own class\n",
    "it can update our sensitive data as well so that's why we use encapsulation using access modifiers\n",
    "public (general)(acessible anywhere)\n",
    "private(only withing the class only methods() within class acessible only )\n",
    "protected(acessible to subclass & class )"
   ]
  }
 ],
 "metadata": {
  "kernelspec": {
   "display_name": "Python 3 (ipykernel)",
   "language": "python",
   "name": "python3"
  },
  "language_info": {
   "codemirror_mode": {
    "name": "ipython",
    "version": 3
   },
   "file_extension": ".py",
   "mimetype": "text/x-python",
   "name": "python",
   "nbconvert_exporter": "python",
   "pygments_lexer": "ipython3",
   "version": "3.12.2"
  }
 },
 "nbformat": 4,
 "nbformat_minor": 5
}

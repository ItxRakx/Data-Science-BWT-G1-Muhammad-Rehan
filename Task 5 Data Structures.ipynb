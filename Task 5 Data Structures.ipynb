{
 "cells": [
  {
   "cell_type": "markdown",
   "id": "32c690b0-a327-41ff-bea3-8dd52500485d",
   "metadata": {},
   "source": [
    "Data Structures\n"
   ]
  },
  {
   "cell_type": "raw",
   "id": "b6a55601-6a0e-4d3c-9be6-ae4260b18ad9",
   "metadata": {},
   "source": [
    "Immutable Tuple"
   ]
  },
  {
   "cell_type": "code",
   "execution_count": 1,
   "id": "4e6879ff-e327-48b1-b392-c8317c088e87",
   "metadata": {},
   "outputs": [],
   "source": [
    "tup=4,5,6"
   ]
  },
  {
   "cell_type": "code",
   "execution_count": 2,
   "id": "ed2db5f8-8314-40ab-96d1-7cd17a4f6081",
   "metadata": {},
   "outputs": [
    {
     "data": {
      "text/plain": [
       "(4, 5, 6)"
      ]
     },
     "execution_count": 2,
     "metadata": {},
     "output_type": "execute_result"
    }
   ],
   "source": [
    "\n",
    "tup"
   ]
  },
  {
   "cell_type": "code",
   "execution_count": 3,
   "id": "9f2a2c87-94ce-4b22-9d8b-6f9f609ee640",
   "metadata": {},
   "outputs": [],
   "source": [
    "tup=tuple(tup)"
   ]
  },
  {
   "cell_type": "code",
   "execution_count": 4,
   "id": "04fc6068-78a2-4bd9-8f4c-ce0d13325c2a",
   "metadata": {},
   "outputs": [
    {
     "data": {
      "text/plain": [
       "(4, 5, 6)"
      ]
     },
     "execution_count": 4,
     "metadata": {},
     "output_type": "execute_result"
    }
   ],
   "source": [
    "tup"
   ]
  },
  {
   "cell_type": "code",
   "execution_count": 5,
   "id": "5c008c24-d5fe-4eb2-98b7-fed570dab2ec",
   "metadata": {},
   "outputs": [],
   "source": [
    "tup=tuple('string')"
   ]
  },
  {
   "cell_type": "code",
   "execution_count": 6,
   "id": "e706339a-c309-4ebb-a4b4-54aed65cd8d1",
   "metadata": {},
   "outputs": [
    {
     "data": {
      "text/plain": [
       "('s', 't', 'r', 'i', 'n', 'g')"
      ]
     },
     "execution_count": 6,
     "metadata": {},
     "output_type": "execute_result"
    }
   ],
   "source": [
    "tup"
   ]
  },
  {
   "cell_type": "raw",
   "id": "aa0bc1eb-e7ef-413a-a2aa-e0277ab50231",
   "metadata": {},
   "source": [
    "Nested Tuple"
   ]
  },
  {
   "cell_type": "code",
   "execution_count": 7,
   "id": "5ae2e952-d561-4643-b9d8-90a9c42daa9e",
   "metadata": {},
   "outputs": [],
   "source": [
    "nest_tup=(4,5,6,),(1,2)"
   ]
  },
  {
   "cell_type": "code",
   "execution_count": 8,
   "id": "d639837a-ee71-42f1-a98d-b644dac9b3c8",
   "metadata": {},
   "outputs": [
    {
     "data": {
      "text/plain": [
       "((4, 5, 6), (1, 2))"
      ]
     },
     "execution_count": 8,
     "metadata": {},
     "output_type": "execute_result"
    }
   ],
   "source": [
    "nest_tup"
   ]
  },
  {
   "cell_type": "code",
   "execution_count": 9,
   "id": "8cc77ce0-52c9-4249-88b4-fea3a6df9c3d",
   "metadata": {},
   "outputs": [
    {
     "data": {
      "text/plain": [
       "(1, 2)"
      ]
     },
     "execution_count": 9,
     "metadata": {},
     "output_type": "execute_result"
    }
   ],
   "source": [
    "nest_tup[1]"
   ]
  },
  {
   "cell_type": "code",
   "execution_count": 10,
   "id": "8d9d7470-5268-49d6-9ab3-80cc60b24c93",
   "metadata": {},
   "outputs": [
    {
     "data": {
      "text/plain": [
       "(4, 5, 6)"
      ]
     },
     "execution_count": 10,
     "metadata": {},
     "output_type": "execute_result"
    }
   ],
   "source": [
    "nest_tup[0]"
   ]
  },
  {
   "cell_type": "code",
   "execution_count": 11,
   "id": "a3c71ab6-76e1-4d97-bd60-3b0265a6ae34",
   "metadata": {},
   "outputs": [],
   "source": [
    "tup_2=tuple((4, None, 'foo') + (6, 0) + ('bar',))"
   ]
  },
  {
   "cell_type": "code",
   "execution_count": 12,
   "id": "3314d120-516f-41a5-8e37-8c4d18701ccd",
   "metadata": {},
   "outputs": [
    {
     "data": {
      "text/plain": [
       "(4, None, 'foo', 6, 0, 'bar')"
      ]
     },
     "execution_count": 12,
     "metadata": {},
     "output_type": "execute_result"
    }
   ],
   "source": [
    "tup_2"
   ]
  },
  {
   "cell_type": "raw",
   "id": "1014e042-a474-4144-8416-38fb681f5b99",
   "metadata": {},
   "source": [
    "swapping"
   ]
  },
  {
   "cell_type": "code",
   "execution_count": 13,
   "id": "9ba8467d-b122-474a-b6cb-446fbcb1ebc2",
   "metadata": {},
   "outputs": [],
   "source": [
    "tup=4,5,(6,7)"
   ]
  },
  {
   "cell_type": "code",
   "execution_count": 14,
   "id": "928671ba-c5e1-44ed-ac84-ca81cb8e0120",
   "metadata": {},
   "outputs": [],
   "source": [
    "a,b,(c,d)=tup"
   ]
  },
  {
   "cell_type": "code",
   "execution_count": 15,
   "id": "9d0aeaa9-845b-4d63-865f-486143ca726e",
   "metadata": {},
   "outputs": [
    {
     "data": {
      "text/plain": [
       "7"
      ]
     },
     "execution_count": 15,
     "metadata": {},
     "output_type": "execute_result"
    }
   ],
   "source": [
    "d"
   ]
  },
  {
   "cell_type": "code",
   "execution_count": 16,
   "id": "8b22ba27-8cf7-4ef0-90a0-8e8816ea116f",
   "metadata": {},
   "outputs": [
    {
     "ename": "AttributeError",
     "evalue": "'tuple' object has no attribute 'append'",
     "output_type": "error",
     "traceback": [
      "\u001b[1;31m---------------------------------------------------------------------------\u001b[0m",
      "\u001b[1;31mAttributeError\u001b[0m                            Traceback (most recent call last)",
      "Cell \u001b[1;32mIn[16], line 1\u001b[0m\n\u001b[1;32m----> 1\u001b[0m \u001b[43mtup_2\u001b[49m\u001b[38;5;241;43m.\u001b[39;49m\u001b[43mappend\u001b[49m(\u001b[38;5;241m0\u001b[39m)\n",
      "\u001b[1;31mAttributeError\u001b[0m: 'tuple' object has no attribute 'append'"
     ]
    }
   ],
   "source": [
    "tup_2.append(0)"
   ]
  },
  {
   "cell_type": "code",
   "execution_count": 17,
   "id": "a0b59f09-1fa0-4364-a154-6b8de283eb01",
   "metadata": {},
   "outputs": [
    {
     "data": {
      "text/plain": [
       "0"
      ]
     },
     "execution_count": 17,
     "metadata": {},
     "output_type": "execute_result"
    }
   ],
   "source": [
    "tup_2.count(2)"
   ]
  },
  {
   "cell_type": "raw",
   "id": "20085e93-5cda-458e-ada0-24d242eb42d5",
   "metadata": {},
   "source": [
    "List"
   ]
  },
  {
   "cell_type": "code",
   "execution_count": 18,
   "id": "54038446-e57d-4f0f-aeba-19c5b9123b35",
   "metadata": {},
   "outputs": [
    {
     "data": {
      "text/plain": [
       "['foo', 'bar', 'baz']"
      ]
     },
     "execution_count": 18,
     "metadata": {},
     "output_type": "execute_result"
    }
   ],
   "source": [
    "tup = (\"foo\", \"bar\", \"baz\") \n",
    "b_list = list(tup)\n",
    "b_list"
   ]
  },
  {
   "cell_type": "code",
   "execution_count": 19,
   "id": "ba306a18-28d9-480d-9f96-9ed16905875a",
   "metadata": {},
   "outputs": [],
   "source": [
    "b_list[1] = \"woooo\""
   ]
  },
  {
   "cell_type": "code",
   "execution_count": 20,
   "id": "a66d7b85-baea-4e05-a7db-54a8870975fb",
   "metadata": {},
   "outputs": [
    {
     "data": {
      "text/plain": [
       "['foo', 'woooo', 'baz']"
      ]
     },
     "execution_count": 20,
     "metadata": {},
     "output_type": "execute_result"
    }
   ],
   "source": [
    "b_list"
   ]
  },
  {
   "cell_type": "code",
   "execution_count": 21,
   "id": "7d7d2aed-6c43-45f7-9eb6-97531db71b1c",
   "metadata": {},
   "outputs": [],
   "source": [
    "gen = range(10)"
   ]
  },
  {
   "cell_type": "code",
   "execution_count": 22,
   "id": "654e1bdc-057b-498b-9aee-99bb5ec93408",
   "metadata": {},
   "outputs": [],
   "source": [
    "gen=list(gen)"
   ]
  },
  {
   "cell_type": "code",
   "execution_count": 23,
   "id": "74fc5b98-c606-4b69-9352-b3a10754bcf8",
   "metadata": {},
   "outputs": [
    {
     "data": {
      "text/plain": [
       "[0, 1, 2, 3, 4, 5, 6, 7, 8, 9]"
      ]
     },
     "execution_count": 23,
     "metadata": {},
     "output_type": "execute_result"
    }
   ],
   "source": [
    "gen"
   ]
  },
  {
   "cell_type": "code",
   "execution_count": 24,
   "id": "edc8571a-bf03-437d-86f9-ecc7bb623067",
   "metadata": {},
   "outputs": [
    {
     "name": "stdout",
     "output_type": "stream",
     "text": [
      "['foo', 'woooo', 'baz', 'dwarf']\n",
      "['foo', 'red', 'woooo', 'baz', 'dwarf']\n",
      "['foo', 'red', 'woooo', 'dwarf']\n",
      "['foo', 'red', 'woooo']\n"
     ]
    }
   ],
   "source": [
    "#.append(),it will add in the list at last index\n",
    "b_list.append(\"dwarf\")\n",
    "print(b_list)\n",
    "# .insert (), we can spcifiy index as well\n",
    "b_list.insert(1, \"red\")\n",
    "print(b_list)\n",
    "#.pop(index)\n",
    "b_list.pop(3)\n",
    "print(b_list)\n",
    "#.remove(\"list element\")\n",
    "b_list.remove(\"dwarf\")\n",
    "print(b_list)"
   ]
  },
  {
   "cell_type": "code",
   "execution_count": 25,
   "id": "9bd334b7-4c8d-4865-9038-f85a39a8744e",
   "metadata": {},
   "outputs": [
    {
     "data": {
      "text/plain": [
       "True"
      ]
     },
     "execution_count": 25,
     "metadata": {},
     "output_type": "execute_result"
    }
   ],
   "source": [
    "\"red\" in b_list\n"
   ]
  },
  {
   "cell_type": "code",
   "execution_count": 26,
   "id": "34802774-ffee-4c3a-9044-b16e9331ef24",
   "metadata": {},
   "outputs": [
    {
     "data": {
      "text/plain": [
       "False"
      ]
     },
     "execution_count": 26,
     "metadata": {},
     "output_type": "execute_result"
    }
   ],
   "source": [
    "\"red\" not in b_list"
   ]
  },
  {
   "cell_type": "code",
   "execution_count": 27,
   "id": "2f18cbc2-7535-411f-82b4-fb68f5303bf1",
   "metadata": {},
   "outputs": [],
   "source": [
    "x = [4, None, \"foo\"]\n",
    "x.extend([7, 8, (2, 3)])"
   ]
  },
  {
   "cell_type": "code",
   "execution_count": 28,
   "id": "f0d3a110-1d7e-4748-8e27-a38c8a3b81ae",
   "metadata": {},
   "outputs": [
    {
     "name": "stdout",
     "output_type": "stream",
     "text": [
      "[4, None, 'foo', 7, 8, (2, 3)]\n"
     ]
    }
   ],
   "source": [
    "print(x)"
   ]
  },
  {
   "cell_type": "code",
   "execution_count": 29,
   "id": "cf6a3c72-e255-4c7f-b61a-147a21c2e184",
   "metadata": {},
   "outputs": [
    {
     "data": {
      "text/plain": [
       "[4, None, 'Rehan', 7, 8, (2, 3)]"
      ]
     },
     "execution_count": 29,
     "metadata": {},
     "output_type": "execute_result"
    }
   ],
   "source": [
    "# concatination\n",
    "[4, None, \"Rehan\"] + [7, 8, (2, 3)]"
   ]
  },
  {
   "cell_type": "code",
   "execution_count": 30,
   "id": "ef3181b2-fb6e-43ee-a037-dfdfb59e1403",
   "metadata": {},
   "outputs": [],
   "source": [
    "a=[10,2,3,9,4]\n",
    "a.sort()"
   ]
  },
  {
   "cell_type": "code",
   "execution_count": 31,
   "id": "460fffa6-5601-4cc3-a07f-c4aba50753d9",
   "metadata": {},
   "outputs": [
    {
     "data": {
      "text/plain": [
       "[2, 3, 4, 9, 10]"
      ]
     },
     "execution_count": 31,
     "metadata": {},
     "output_type": "execute_result"
    }
   ],
   "source": [
    "\n",
    "a"
   ]
  },
  {
   "cell_type": "code",
   "execution_count": 32,
   "id": "314c8f26-f48b-4fe7-bc1d-82af09ecb6bf",
   "metadata": {},
   "outputs": [],
   "source": [
    "# now for strings \n",
    "b = [\"byte\", \"Rehan\", \"He\", \"fixer\", \"him\"]"
   ]
  },
  {
   "cell_type": "code",
   "execution_count": 33,
   "id": "2e07f732-0755-4197-be51-453a47de6249",
   "metadata": {},
   "outputs": [],
   "source": [
    "b.sort(key=len)"
   ]
  },
  {
   "cell_type": "code",
   "execution_count": 34,
   "id": "53fd51bc-44ad-44fa-b07a-99930403cbcd",
   "metadata": {},
   "outputs": [
    {
     "data": {
      "text/plain": [
       "['He', 'him', 'byte', 'Rehan', 'fixer']"
      ]
     },
     "execution_count": 34,
     "metadata": {},
     "output_type": "execute_result"
    }
   ],
   "source": [
    "b\n"
   ]
  },
  {
   "cell_type": "code",
   "execution_count": 35,
   "id": "8a6e2099-d3c5-40cc-844c-3ed60a293cfc",
   "metadata": {},
   "outputs": [],
   "source": [
    "x=[7, 2, 3, 7, 5, 6, 0, 1]"
   ]
  },
  {
   "cell_type": "code",
   "execution_count": 36,
   "id": "236cbb55-a46f-411a-80b8-dd1da6043ef3",
   "metadata": {},
   "outputs": [
    {
     "data": {
      "text/plain": [
       "[2, 3, 7, 5]"
      ]
     },
     "execution_count": 36,
     "metadata": {},
     "output_type": "execute_result"
    }
   ],
   "source": [
    "# index 1 to 5 sliced out\n",
    "x[1:5]"
   ]
  },
  {
   "cell_type": "code",
   "execution_count": 37,
   "id": "9b30665d-6d2e-4bde-bc48-de06135b905a",
   "metadata": {},
   "outputs": [
    {
     "data": {
      "text/plain": [
       "7"
      ]
     },
     "execution_count": 37,
     "metadata": {},
     "output_type": "execute_result"
    }
   ],
   "source": [
    "x[0]"
   ]
  },
  {
   "cell_type": "code",
   "execution_count": 38,
   "id": "dec2f015-cc0c-48f5-9413-cb1a51ea2698",
   "metadata": {},
   "outputs": [
    {
     "data": {
      "text/plain": [
       "[7, 2, 3, 7, 5]"
      ]
     },
     "execution_count": 38,
     "metadata": {},
     "output_type": "execute_result"
    }
   ],
   "source": [
    "x[:5]"
   ]
  },
  {
   "cell_type": "code",
   "execution_count": 39,
   "id": "1605ffc1-404a-46ef-bb2f-8f7fdc122e67",
   "metadata": {},
   "outputs": [
    {
     "data": {
      "text/plain": [
       "[7, 5, 6, 0, 1]"
      ]
     },
     "execution_count": 39,
     "metadata": {},
     "output_type": "execute_result"
    }
   ],
   "source": [
    "x[3:]"
   ]
  },
  {
   "cell_type": "code",
   "execution_count": 40,
   "id": "a65e2f8d-cd91-4387-9ab6-efe5a113b554",
   "metadata": {},
   "outputs": [
    {
     "data": {
      "text/plain": [
       "[7, 3, 5, 0]"
      ]
     },
     "execution_count": 40,
     "metadata": {},
     "output_type": "execute_result"
    }
   ],
   "source": [
    "#skipping we usually do in pandas case as well\n",
    "x[::2]"
   ]
  },
  {
   "cell_type": "code",
   "execution_count": 41,
   "id": "2db1d0d7-36f7-467f-97b3-1ad049e0892f",
   "metadata": {},
   "outputs": [
    {
     "data": {
      "text/plain": [
       "[1, 0, 6, 5, 7, 3, 2, 7]"
      ]
     },
     "execution_count": 41,
     "metadata": {},
     "output_type": "execute_result"
    }
   ],
   "source": [
    "# reverse\n",
    "x[::-1] # 0 index"
   ]
  },
  {
   "cell_type": "code",
   "execution_count": 42,
   "id": "22eb98b9-ff9e-4e10-a945-1efd781e0007",
   "metadata": {},
   "outputs": [],
   "source": [
    "b=[1,2,3,3]"
   ]
  },
  {
   "cell_type": "code",
   "execution_count": 43,
   "id": "48716b2a-29e5-4701-93d6-4e2d0559d7f3",
   "metadata": {},
   "outputs": [
    {
     "data": {
      "text/plain": [
       "[3, 3, 2, 1]"
      ]
     },
     "execution_count": 43,
     "metadata": {},
     "output_type": "execute_result"
    }
   ],
   "source": [
    "b[::-1]"
   ]
  },
  {
   "cell_type": "raw",
   "id": "dc485cff-f94a-44fc-a1d4-a02b2a5af819",
   "metadata": {},
   "source": [
    "Dictionary"
   ]
  },
  {
   "cell_type": "code",
   "execution_count": 44,
   "id": "7d9ec0c5-4364-4de0-84e1-51cb227ea074",
   "metadata": {},
   "outputs": [],
   "source": [
    "# dict{key:value}\n",
    "d={\n",
    "    \"name\":\"Rehan\",\n",
    "    \"Age\" :\"23\" \n",
    "}"
   ]
  },
  {
   "cell_type": "code",
   "execution_count": 45,
   "id": "2f39da7c-993d-4ef1-84aa-5ebc39afdf97",
   "metadata": {},
   "outputs": [
    {
     "data": {
      "text/plain": [
       "{'name': 'Rehan', 'Age': '23'}"
      ]
     },
     "execution_count": 45,
     "metadata": {},
     "output_type": "execute_result"
    }
   ],
   "source": [
    "d"
   ]
  },
  {
   "cell_type": "code",
   "execution_count": 46,
   "id": "f3881339-12e5-4441-ab91-56096cfd3317",
   "metadata": {},
   "outputs": [
    {
     "data": {
      "text/plain": [
       "'Rehan'"
      ]
     },
     "execution_count": 46,
     "metadata": {},
     "output_type": "execute_result"
    }
   ],
   "source": [
    "# access,insert,set\n",
    "d[\"name\"]"
   ]
  },
  {
   "cell_type": "code",
   "execution_count": 47,
   "id": "a7b6cd0d-d28d-4aa4-baab-cce97e5c9c7c",
   "metadata": {},
   "outputs": [],
   "source": [
    "d[\"Age\"]=22"
   ]
  },
  {
   "cell_type": "code",
   "execution_count": 48,
   "id": "6481e217-185c-4e3e-88d0-e0b163df53f3",
   "metadata": {},
   "outputs": [
    {
     "data": {
      "text/plain": [
       "{'name': 'Rehan', 'Age': 22}"
      ]
     },
     "execution_count": 48,
     "metadata": {},
     "output_type": "execute_result"
    }
   ],
   "source": [
    "d"
   ]
  },
  {
   "cell_type": "code",
   "execution_count": 49,
   "id": "03add8be-ea18-42f6-9d57-47e78198a5dd",
   "metadata": {},
   "outputs": [],
   "source": [
    "del d[\"name\"]"
   ]
  },
  {
   "cell_type": "code",
   "execution_count": 50,
   "id": "7fcbc520-de94-4ceb-a993-0a5233a5878c",
   "metadata": {},
   "outputs": [
    {
     "data": {
      "text/plain": [
       "{'Age': 22}"
      ]
     },
     "execution_count": 50,
     "metadata": {},
     "output_type": "execute_result"
    }
   ],
   "source": [
    "d"
   ]
  },
  {
   "cell_type": "code",
   "execution_count": 51,
   "id": "e9f13fdf-5527-4770-addc-1a555b6d6611",
   "metadata": {},
   "outputs": [],
   "source": [
    "d.update({\"First_name\": \"Rehan\"})"
   ]
  },
  {
   "cell_type": "code",
   "execution_count": 52,
   "id": "18e52f26-3481-47d9-898b-4235fa40ac8d",
   "metadata": {},
   "outputs": [
    {
     "data": {
      "text/plain": [
       "{'Age': 22, 'First_name': 'Rehan'}"
      ]
     },
     "execution_count": 52,
     "metadata": {},
     "output_type": "execute_result"
    }
   ],
   "source": [
    "d"
   ]
  },
  {
   "cell_type": "code",
   "execution_count": 53,
   "id": "d0026ec2-0c51-45b0-ac1a-3073f84e0f52",
   "metadata": {},
   "outputs": [
    {
     "data": {
      "text/plain": [
       "'Rehan'"
      ]
     },
     "execution_count": 53,
     "metadata": {},
     "output_type": "execute_result"
    }
   ],
   "source": [
    "d.pop(\"First_name\")"
   ]
  },
  {
   "cell_type": "code",
   "execution_count": 54,
   "id": "82f2b731-bba6-430a-9141-d6854902dbad",
   "metadata": {},
   "outputs": [
    {
     "data": {
      "text/plain": [
       "{'Age': 22}"
      ]
     },
     "execution_count": 54,
     "metadata": {},
     "output_type": "execute_result"
    }
   ],
   "source": [
    "d"
   ]
  },
  {
   "cell_type": "code",
   "execution_count": 55,
   "id": "52a22d0d-70da-4e85-adf5-dd68acf4a370",
   "metadata": {},
   "outputs": [
    {
     "data": {
      "text/plain": [
       "['Age']"
      ]
     },
     "execution_count": 55,
     "metadata": {},
     "output_type": "execute_result"
    }
   ],
   "source": [
    "list(d.keys())"
   ]
  },
  {
   "cell_type": "code",
   "execution_count": 56,
   "id": "8d410d27-7ab1-4a34-a080-52dda5049a10",
   "metadata": {},
   "outputs": [
    {
     "data": {
      "text/plain": [
       "[('Age', 22)]"
      ]
     },
     "execution_count": 56,
     "metadata": {},
     "output_type": "execute_result"
    }
   ],
   "source": [
    "list(d.items())"
   ]
  },
  {
   "cell_type": "raw",
   "id": "39aeb13e-2455-4323-a1b4-9f311ab97bd4",
   "metadata": {},
   "source": [
    "Set"
   ]
  },
  {
   "cell_type": "code",
   "execution_count": 57,
   "id": "766c9a2f-a3a2-4eb8-9342-1dd210a93e0b",
   "metadata": {},
   "outputs": [
    {
     "data": {
      "text/plain": [
       "{1, 2, 3}"
      ]
     },
     "execution_count": 57,
     "metadata": {},
     "output_type": "execute_result"
    }
   ],
   "source": [
    "\n",
    "set([2, 2, 2, 1, 3, 3])"
   ]
  },
  {
   "cell_type": "code",
   "execution_count": 58,
   "id": "ab2eac19-2521-4fe8-b9a5-89217c907eb3",
   "metadata": {},
   "outputs": [],
   "source": [
    "a={1,2,3}\n",
    "b={4,5,6}"
   ]
  },
  {
   "cell_type": "code",
   "execution_count": 59,
   "id": "8388aa00-6090-4865-8617-034bb95a47f2",
   "metadata": {},
   "outputs": [],
   "source": [
    "u=a.union(b)"
   ]
  },
  {
   "cell_type": "code",
   "execution_count": 60,
   "id": "ce9abdf2-ed19-4458-9661-8c2b750e055e",
   "metadata": {},
   "outputs": [
    {
     "data": {
      "text/plain": [
       "{1, 2, 3, 4, 5, 6}"
      ]
     },
     "execution_count": 60,
     "metadata": {},
     "output_type": "execute_result"
    }
   ],
   "source": [
    "u"
   ]
  },
  {
   "cell_type": "code",
   "execution_count": 61,
   "id": "403468d1-5a6b-40fd-bd3c-32c46bea19c1",
   "metadata": {},
   "outputs": [],
   "source": [
    "int =a.intersection(b)"
   ]
  },
  {
   "cell_type": "code",
   "execution_count": 62,
   "id": "6bdf0e1f-160b-4e21-89a8-24eb6e7c31f0",
   "metadata": {},
   "outputs": [
    {
     "data": {
      "text/plain": [
       "set()"
      ]
     },
     "execution_count": 62,
     "metadata": {},
     "output_type": "execute_result"
    }
   ],
   "source": [
    "int"
   ]
  },
  {
   "cell_type": "code",
   "execution_count": 63,
   "id": "b1224081-3200-4366-94f7-aaefa106650d",
   "metadata": {},
   "outputs": [
    {
     "data": {
      "text/plain": [
       "False"
      ]
     },
     "execution_count": 63,
     "metadata": {},
     "output_type": "execute_result"
    }
   ],
   "source": [
    "{10,11,12}.issubset(a)"
   ]
  },
  {
   "cell_type": "code",
   "execution_count": 64,
   "id": "3d045ce3-15be-4216-b8ca-3eb4b45e583c",
   "metadata": {},
   "outputs": [
    {
     "data": {
      "text/plain": [
       "True"
      ]
     },
     "execution_count": 64,
     "metadata": {},
     "output_type": "execute_result"
    }
   ],
   "source": [
    "{4,5,6}=={6,5,4}"
   ]
  },
  {
   "cell_type": "code",
   "execution_count": 65,
   "id": "01624eaa-dbd5-4c55-85f6-1713485838a4",
   "metadata": {},
   "outputs": [],
   "source": [
    "c=a.copy()"
   ]
  },
  {
   "cell_type": "code",
   "execution_count": 66,
   "id": "36e5cb37-fc56-4753-b806-e77edd50fad2",
   "metadata": {},
   "outputs": [
    {
     "data": {
      "text/plain": [
       "{1, 2, 3}"
      ]
     },
     "execution_count": 66,
     "metadata": {},
     "output_type": "execute_result"
    }
   ],
   "source": [
    "c"
   ]
  },
  {
   "cell_type": "code",
   "execution_count": 67,
   "id": "5f18cc26-7a7a-4dab-af64-f7c4c79d52b1",
   "metadata": {},
   "outputs": [
    {
     "data": {
      "text/plain": [
       "{'Age': 22}"
      ]
     },
     "execution_count": 67,
     "metadata": {},
     "output_type": "execute_result"
    }
   ],
   "source": [
    "d"
   ]
  },
  {
   "cell_type": "code",
   "execution_count": null,
   "id": "49630fc8-64bc-443d-8de6-b03663eb62e7",
   "metadata": {},
   "outputs": [],
   "source": []
  }
 ],
 "metadata": {
  "kernelspec": {
   "display_name": "Python 3 (ipykernel)",
   "language": "python",
   "name": "python3"
  },
  "language_info": {
   "codemirror_mode": {
    "name": "ipython",
    "version": 3
   },
   "file_extension": ".py",
   "mimetype": "text/x-python",
   "name": "python",
   "nbconvert_exporter": "python",
   "pygments_lexer": "ipython3",
   "version": "3.12.2"
  }
 },
 "nbformat": 4,
 "nbformat_minor": 5
}
